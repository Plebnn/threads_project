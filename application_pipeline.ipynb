{
 "cells": [
  {
   "cell_type": "code",
   "execution_count": null,
   "id": "8b235258",
   "metadata": {},
   "outputs": [],
   "source": [
    "import tweepy\n",
    "from TweetTransformations import checkClaims, translate_to_german,  translate_to_english, deconstructTwitterQueryResponse\n",
    "from config import access_token, access_token_secret, bearer_token, consumer_key, consumer_secret\n"
   ]
  },
  {
   "cell_type": "code",
   "execution_count": null,
   "id": "dac324fd",
   "metadata": {},
   "outputs": [],
   "source": [
    "api = tweepy.Client(\n",
    "    access_token=access_token,\n",
    "    access_token_secret=access_token_secret,\n",
    "    bearer_token=bearer_token,\n",
    "    consumer_key=consumer_key,\n",
    "    consumer_secret=consumer_secret,\n",
    "    wait_on_rate_limit=False)"
   ]
  },
  {
   "cell_type": "code",
   "execution_count": null,
   "id": "a819002a",
   "metadata": {},
   "outputs": [],
   "source": [
    "# keyword search for klimawandel \n",
    "response = api.search_recent_tweets(query=\"Klimawandel -is:retweet\", expansions=['referenced_tweets.id'])"
   ]
  },
  {
   "cell_type": "code",
   "execution_count": null,
   "id": "d4816cd1",
   "metadata": {},
   "outputs": [],
   "source": [
    "response.data[0].id"
   ]
  },
  {
   "cell_type": "code",
   "execution_count": null,
   "id": "2a8337ea",
   "metadata": {},
   "outputs": [],
   "source": [
    "tweet_list = deconstructTwitterQueryResponse(response)"
   ]
  },
  {
   "cell_type": "code",
   "execution_count": null,
   "id": "ebc9749f",
   "metadata": {},
   "outputs": [],
   "source": [
    "tweet_list"
   ]
  },
  {
   "cell_type": "code",
   "execution_count": null,
   "id": "bfbfe7e9",
   "metadata": {},
   "outputs": [],
   "source": [
    "translated_tweet_list = []\n",
    "for tweet in tweet_list:\n",
    "    tweet_id = tweet.get(\"tweet_id\")\n",
    "    original_tweet= tweet.get(\"original_tweet\")\n",
    "    translated_original_tweet = await translate_to_english(original_tweet)\n",
    "    answer_dict = {\n",
    "                \"original_tweet\" : original_tweet,\n",
    "                \"tweet_id\": tweet_id,\n",
    "                \"translated_original_tweet\" : translated_original_tweet,\n",
    "            }\n",
    "    translated_tweet_list.append(answer_dict)"
   ]
  },
  {
   "cell_type": "code",
   "execution_count": null,
   "id": "29138fae",
   "metadata": {},
   "outputs": [],
   "source": [
    "translated_tweet_list"
   ]
  },
  {
   "cell_type": "code",
   "execution_count": null,
   "id": "0d499421",
   "metadata": {},
   "outputs": [],
   "source": [
    "list_of_factchecked_tweets = await checkClaims(tweetlist=translated_tweet_list)"
   ]
  },
  {
   "cell_type": "code",
   "execution_count": null,
   "id": "adbefbd3",
   "metadata": {},
   "outputs": [],
   "source": [
    "for tweet in list_of_factchecked_tweets:\n",
    "    original_tweet = tweet.get(\"original_tweet\")\n",
    "    answer_tweet = tweet.get(\"answer_tweet\")\n",
    "    tweet_id = tweet.get(\"tweet_id\")\n",
    "    translated_answer_tweet = await translate_to_german(answer_tweet)\n",
    "    print(tweet_id)\n",
    "    # post tweet\n",
    "    try:\n",
    "        api.create_tweet(text=translated_answer_tweet,in_reply_to_tweet_id=tweet_id)\n",
    "    except tweepy.errors.Forbidden as e:\n",
    "        print(f\"error while posting: {e}\")\n"
   ]
  },
  {
   "cell_type": "code",
   "execution_count": null,
   "id": "13612ac9",
   "metadata": {},
   "outputs": [],
   "source": []
  }
 ],
 "metadata": {
  "kernelspec": {
   "display_name": "threads",
   "language": "python",
   "name": "python3"
  },
  "language_info": {
   "codemirror_mode": {
    "name": "ipython",
    "version": 3
   },
   "file_extension": ".py",
   "mimetype": "text/x-python",
   "name": "python",
   "nbconvert_exporter": "python",
   "pygments_lexer": "ipython3",
   "version": "3.12.3"
  }
 },
 "nbformat": 4,
 "nbformat_minor": 5
}
