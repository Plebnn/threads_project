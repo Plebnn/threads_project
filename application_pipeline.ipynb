{
 "cells": [
  {
   "cell_type": "code",
   "execution_count": 1,
   "id": "8b235258",
   "metadata": {},
   "outputs": [],
   "source": [
    "import tweepy\n",
    "from TweetTransformations import checkClaims, translate_to_german,  translate_to_english, deconstructTwitterQueryResponse\n",
    "from config import access_token, access_token_secret, bearer_token, consumer_key, consumer_secret\n"
   ]
  },
  {
   "cell_type": "code",
   "execution_count": 2,
   "id": "dac324fd",
   "metadata": {},
   "outputs": [],
   "source": [
    "api = tweepy.Client(\n",
    "    access_token=access_token,\n",
    "    access_token_secret=access_token_secret,\n",
    "    bearer_token=bearer_token,\n",
    "    consumer_key=consumer_key,\n",
    "    consumer_secret=consumer_secret,\n",
    "    wait_on_rate_limit=False)"
   ]
  },
  {
   "cell_type": "code",
   "execution_count": 3,
   "id": "a819002a",
   "metadata": {},
   "outputs": [],
   "source": [
    "# keyword search for klimawandel \n",
    "response = api.search_recent_tweets(query=\"Klimawandel -is:retweet -is:reply\", \n",
    "                                    expansions=[\"author_id\",'referenced_tweets.id'],\n",
    "                                    tweet_fields=[\"reply_settings\"],\n",
    "                                    user_fields=[\"protected\"],\n",
    "                                    max_results=20)"
   ]
  },
  {
   "cell_type": "code",
   "execution_count": 4,
   "id": "d4816cd1",
   "metadata": {},
   "outputs": [
    {
     "data": {
      "text/plain": [
       "1952979556538667072"
      ]
     },
     "execution_count": 4,
     "metadata": {},
     "output_type": "execute_result"
    }
   ],
   "source": [
    "response.data[0].id"
   ]
  },
  {
   "cell_type": "code",
   "execution_count": 5,
   "id": "2a8337ea",
   "metadata": {},
   "outputs": [
    {
     "name": "stdout",
     "output_type": "stream",
     "text": [
      "OK to reply to Tweet 1952979556538667072\n",
      "OK to reply to Tweet 1952976611747479705\n",
      "OK to reply to Tweet 1952973373090480446\n",
      "OK to reply to Tweet 1952973154680222011\n",
      "OK to reply to Tweet 1952972257225068804\n",
      "OK to reply to Tweet 1952970252167594161\n",
      "OK to reply to Tweet 1952969953541538279\n",
      "OK to reply to Tweet 1952965970802229450\n",
      "OK to reply to Tweet 1952963764405293190\n",
      "OK to reply to Tweet 1952963663893037446\n",
      "OK to reply to Tweet 1952963072668352859\n",
      "OK to reply to Tweet 1952960764584607773\n",
      "OK to reply to Tweet 1952960447633625481\n",
      "OK to reply to Tweet 1952960361281327488\n",
      "OK to reply to Tweet 1952959245646786565\n",
      "OK to reply to Tweet 1952957711165137272\n",
      "OK to reply to Tweet 1952952901975802360\n",
      "OK to reply to Tweet 1952948303018254479\n",
      "OK to reply to Tweet 1952942740976578765\n",
      "OK to reply to Tweet 1952936977596334131\n"
     ]
    }
   ],
   "source": [
    "tweet_list = deconstructTwitterQueryResponse(response)"
   ]
  },
  {
   "cell_type": "code",
   "execution_count": 6,
   "id": "25a89808",
   "metadata": {},
   "outputs": [
    {
     "data": {
      "text/plain": [
       "[<Tweet id=1952979556538667072 text='Und wenn ich mir das hier anschaue, glauben die Grünen immernoch, dass das wichtigste Thema sei, dass die deutschen Bürger 7-8000! Milliarden für eine Energiewende auszugeben sollen, mit der der Klimawandel aber (leider) nicht aufgehalten werden kann. Tja, was willste da sagen?'>,\n",
       " <Tweet id=1952976611747479705 text='Klimawandel? Daten ermitteln, auch mittels Satelliten? Die amerikanische Regierung will davon nichts wissen. Sie hat die NASA aufgefordert, Pläne auszuarbeiten, um zwei laufende Satelliten-Missionen vorzeitig zu beenden.\\n\\nDiese Regierung meint es ernst. Sie weiß, … ⤵️'>,\n",
       " <Tweet id=1952973373090480446 text='Heute früh, 10°C Außentemperatur, die Heizung springt an und wärmt die Wohnung. Wo ist denn nun dieser angebliche #Klimawandel, den die #radikalenGrünen immer propagieren? Ist das sowas wie der #Yeti? Viele wollen ihn gesehen haben, aber keiner kann es beweisen?'>,\n",
       " <Tweet id=1952973154680222011 text='Habe ich mir gerade auf dem Weg zur Arbeit angeschaut. Danke, dem jungen Mann für seine hervorragende Arbeit. Ich schaue den Kanal immer gerne. #Klimakatastrophe #Klimakrise #Klima \\nGrüne in Schockstarre: Klimawandel als Fake entlarvt https://t.co/qOCE6Xu7N4 via @YouTube'>,\n",
       " <Tweet id=1952972257225068804 text='Ich sag euch, wenn dieser scheiss Klimawandel jetzt so aussieht, dass es nur noch kalt ist und regnet, dann werde ich zum Klimaflüchtling. Ich hatte mich so auf den Höllensommer gefreut!'>,\n",
       " <Tweet id=1952970252167594161 text='Nicht verpassen! Ein neuer Artikel von mir: Der Klimawandel https://t.co/KAFzacAt0h via @LinkedIn'>,\n",
       " <Tweet id=1952969953541538279 text='„Obst wird ein einmaliger Genuss im Jahr sein“, sagt der oberste Wahrsager der UN, nachdem wegen Klimawandel fünfmal so viel Obst geerntet worden war. https://t.co/CaOveaexhO'>,\n",
       " <Tweet id=1952965970802229450 text='Bisher größte Korallenbleiche im Great Barrier Reef registriert\\n\\nWegen \"beispiellosem Hitzestress\" hat die Korallenbleiche am Great Barrier Reef das bisher größte Ausmaß erreicht. Forscher sehen den Klimawandel als Hauptgrund dafür\\n\\nhttps://t.co/mJMfj82RdZ'>,\n",
       " <Tweet id=1952963764405293190 text='Klimawandel verschiebt irdische Primärproduktion. Pflanzliche Produktivität nimmt an Land zu, im Ozean und den Tropen dagegen ab. #Pflanzen #Klimawandel #Vegetation #Primaerproduktion #CO2 #Ozean #Phytoplankton\\nhttps://t.co/3WAJIqwLQS'>,\n",
       " <Tweet id=1952963663893037446 text=\"Ächz... 😡\\n\\nDas schöne Wetter ist dann ab morgen wohl für's erste vorbei...\\n\\n#Wetter #Sommer #Klima #Klimawandel #Hitze #Hitzewelle https://t.co/igpa7nW8O6\">,\n",
       " <Tweet id=1952963072668352859 text='Ihr verhalten ist weltweit gleich. Wasser predigen, Wein saufen. \\n\\nKlimawandel https://t.co/lYUDPhkzJV'>,\n",
       " <Tweet id=1952960764584607773 text='Die Straßenbäume in Pirmasens leiden in erster Linie unter den Unmengen an Autos. Nicht unter dem \"Klimawandel\". https://t.co/jaGnIgZ4jc'>,\n",
       " <Tweet id=1952960447633625481 text='Naturkatastrophen wie in Uttarkashi zeigen, wie verwundbar unsere Welt ist. Während wir hier über geopolitische Stabilität sprechen, kämpfen Menschen dort um ihr Überleben. Klimawandel ist eine Bedrohung, die keine Grenzen kennt – genau wie die russische Aggression. https://t.co/Ex8zfFkDQy'>,\n",
       " <Tweet id=1952960361281327488 text='Das könnte ja an dem hauernden antideutschen gehetze und den Kosten für ein Kind liegen, oder es ist der Klimawandel https://t.co/4iMEjSs3IV'>,\n",
       " <Tweet id=1952959245646786565 text='Invasive Arten in Spanien: Wie Feuerfisch und Feuerwurm das Mittelmeer erobern\\n\\nMehr als die Überschrift? Hier vollständigen Artikel lesen: https://t.co/JQZ0kLFYLc\\n\\n#Spanien #Aktuell #Feuerwurm #invasive_Arten #Klimawandel #Meerestemperatur #Nachrichten'>,\n",
       " <Tweet id=1952957711165137272 text='Bin grade in Bayreuth. Wer kommt mit Skifahren?? \\n7 Grad #Klimer. #Klimawandel'>,\n",
       " <Tweet id=1952952901975802360 text='Klimawandel ist alles\\nAlles ist Klimawandel https://t.co/74DSuheq59'>,\n",
       " <Tweet id=1952948303018254479 text='BERICHT: Weißes Haus ordnet laut NPR die Zerstörung eines zur Überwachung des Klimawandels genutzten Satelliten durch die NASA an\\nDie Zensurkampagne geht bis ins All. Ich schätze, wenn man den Klimawandel nicht SEHEN kann, dann ändert er sich auch nicht.\\nDie Dummheit ist exquisit'>,\n",
       " <Tweet id=1952942740976578765 text='Wird bald fatale Folgen haben.\\n\\nKlimawandel: Wissenschaftler werfen US-Regierung Verzerrung ihrer Arbeit vor – News – Deutsches Ärzteblatt https://t.co/rALwCmUNf5'>,\n",
       " <Tweet id=1952936977596334131 text='Zündet nicht der Klimawandel die Wälder an? https://t.co/rzDTlltAew'>]"
      ]
     },
     "execution_count": 6,
     "metadata": {},
     "output_type": "execute_result"
    }
   ],
   "source": [
    "response.data"
   ]
  },
  {
   "cell_type": "code",
   "execution_count": 7,
   "id": "6de6016d",
   "metadata": {},
   "outputs": [
    {
     "name": "stdout",
     "output_type": "stream",
     "text": [
      "OK to reply to Tweet 1952979556538667072\n",
      "OK to reply to Tweet 1952976611747479705\n",
      "OK to reply to Tweet 1952973373090480446\n",
      "OK to reply to Tweet 1952973154680222011\n",
      "OK to reply to Tweet 1952972257225068804\n",
      "OK to reply to Tweet 1952970252167594161\n",
      "OK to reply to Tweet 1952969953541538279\n",
      "OK to reply to Tweet 1952965970802229450\n",
      "OK to reply to Tweet 1952963764405293190\n",
      "OK to reply to Tweet 1952963663893037446\n",
      "OK to reply to Tweet 1952963072668352859\n",
      "OK to reply to Tweet 1952960764584607773\n",
      "OK to reply to Tweet 1952960447633625481\n",
      "OK to reply to Tweet 1952960361281327488\n",
      "OK to reply to Tweet 1952959245646786565\n",
      "OK to reply to Tweet 1952957711165137272\n",
      "OK to reply to Tweet 1952952901975802360\n",
      "OK to reply to Tweet 1952948303018254479\n",
      "OK to reply to Tweet 1952942740976578765\n",
      "OK to reply to Tweet 1952936977596334131\n"
     ]
    }
   ],
   "source": [
    "list_of_tweets = []\n",
    "for tweet in response.data:\n",
    "    # CORRECTED LOGIC: Check the 'reply_settings' attribute directly\n",
    "    if tweet.reply_settings != 'everyone':\n",
    "        print(f\"Skipping Tweet {tweet.id}: Replies are limited to '{tweet.reply_settings}'.\")\n",
    "        continue  # Skip to the next tweet\n",
    "    \n",
    "    # If the check passes, you can process or add the tweet\n",
    "    print(f\"OK to reply to Tweet {tweet.id}\")\n",
    "    tweet_id = tweet.id\n",
    "    original_tweet = tweet.text\n",
    "    answer_dict = {\n",
    "            \"original_tweet\" : original_tweet,\n",
    "            \"tweet_id\": tweet_id\n",
    "        }\n",
    "    list_of_tweets.append(answer_dict)\n",
    "    "
   ]
  },
  {
   "cell_type": "code",
   "execution_count": 8,
   "id": "da654752",
   "metadata": {},
   "outputs": [
    {
     "data": {
      "text/plain": [
       "[{'original_tweet': 'Und wenn ich mir das hier anschaue, glauben die Grünen immernoch, dass das wichtigste Thema sei, dass die deutschen Bürger 7-8000! Milliarden für eine Energiewende auszugeben sollen, mit der der Klimawandel aber (leider) nicht aufgehalten werden kann. Tja, was willste da sagen?',\n",
       "  'tweet_id': 1952979556538667072},\n",
       " {'original_tweet': 'Klimawandel? Daten ermitteln, auch mittels Satelliten? Die amerikanische Regierung will davon nichts wissen. Sie hat die NASA aufgefordert, Pläne auszuarbeiten, um zwei laufende Satelliten-Missionen vorzeitig zu beenden.\\n\\nDiese Regierung meint es ernst. Sie weiß, … ⤵️',\n",
       "  'tweet_id': 1952976611747479705},\n",
       " {'original_tweet': 'Heute früh, 10°C Außentemperatur, die Heizung springt an und wärmt die Wohnung. Wo ist denn nun dieser angebliche #Klimawandel, den die #radikalenGrünen immer propagieren? Ist das sowas wie der #Yeti? Viele wollen ihn gesehen haben, aber keiner kann es beweisen?',\n",
       "  'tweet_id': 1952973373090480446},\n",
       " {'original_tweet': 'Habe ich mir gerade auf dem Weg zur Arbeit angeschaut. Danke, dem jungen Mann für seine hervorragende Arbeit. Ich schaue den Kanal immer gerne. #Klimakatastrophe #Klimakrise #Klima \\nGrüne in Schockstarre: Klimawandel als Fake entlarvt https://t.co/qOCE6Xu7N4 via @YouTube',\n",
       "  'tweet_id': 1952973154680222011},\n",
       " {'original_tweet': 'Ich sag euch, wenn dieser scheiss Klimawandel jetzt so aussieht, dass es nur noch kalt ist und regnet, dann werde ich zum Klimaflüchtling. Ich hatte mich so auf den Höllensommer gefreut!',\n",
       "  'tweet_id': 1952972257225068804},\n",
       " {'original_tweet': 'Nicht verpassen! Ein neuer Artikel von mir: Der Klimawandel https://t.co/KAFzacAt0h via @LinkedIn',\n",
       "  'tweet_id': 1952970252167594161},\n",
       " {'original_tweet': '„Obst wird ein einmaliger Genuss im Jahr sein“, sagt der oberste Wahrsager der UN, nachdem wegen Klimawandel fünfmal so viel Obst geerntet worden war. https://t.co/CaOveaexhO',\n",
       "  'tweet_id': 1952969953541538279},\n",
       " {'original_tweet': 'Bisher größte Korallenbleiche im Great Barrier Reef registriert\\n\\nWegen \"beispiellosem Hitzestress\" hat die Korallenbleiche am Great Barrier Reef das bisher größte Ausmaß erreicht. Forscher sehen den Klimawandel als Hauptgrund dafür\\n\\nhttps://t.co/mJMfj82RdZ',\n",
       "  'tweet_id': 1952965970802229450},\n",
       " {'original_tweet': 'Klimawandel verschiebt irdische Primärproduktion. Pflanzliche Produktivität nimmt an Land zu, im Ozean und den Tropen dagegen ab. #Pflanzen #Klimawandel #Vegetation #Primaerproduktion #CO2 #Ozean #Phytoplankton\\nhttps://t.co/3WAJIqwLQS',\n",
       "  'tweet_id': 1952963764405293190},\n",
       " {'original_tweet': \"Ächz... 😡\\n\\nDas schöne Wetter ist dann ab morgen wohl für's erste vorbei...\\n\\n#Wetter #Sommer #Klima #Klimawandel #Hitze #Hitzewelle https://t.co/igpa7nW8O6\",\n",
       "  'tweet_id': 1952963663893037446},\n",
       " {'original_tweet': 'Ihr verhalten ist weltweit gleich. Wasser predigen, Wein saufen. \\n\\nKlimawandel https://t.co/lYUDPhkzJV',\n",
       "  'tweet_id': 1952963072668352859},\n",
       " {'original_tweet': 'Die Straßenbäume in Pirmasens leiden in erster Linie unter den Unmengen an Autos. Nicht unter dem \"Klimawandel\". https://t.co/jaGnIgZ4jc',\n",
       "  'tweet_id': 1952960764584607773},\n",
       " {'original_tweet': 'Naturkatastrophen wie in Uttarkashi zeigen, wie verwundbar unsere Welt ist. Während wir hier über geopolitische Stabilität sprechen, kämpfen Menschen dort um ihr Überleben. Klimawandel ist eine Bedrohung, die keine Grenzen kennt – genau wie die russische Aggression. https://t.co/Ex8zfFkDQy',\n",
       "  'tweet_id': 1952960447633625481},\n",
       " {'original_tweet': 'Das könnte ja an dem hauernden antideutschen gehetze und den Kosten für ein Kind liegen, oder es ist der Klimawandel https://t.co/4iMEjSs3IV',\n",
       "  'tweet_id': 1952960361281327488},\n",
       " {'original_tweet': 'Invasive Arten in Spanien: Wie Feuerfisch und Feuerwurm das Mittelmeer erobern\\n\\nMehr als die Überschrift? Hier vollständigen Artikel lesen: https://t.co/JQZ0kLFYLc\\n\\n#Spanien #Aktuell #Feuerwurm #invasive_Arten #Klimawandel #Meerestemperatur #Nachrichten',\n",
       "  'tweet_id': 1952959245646786565},\n",
       " {'original_tweet': 'Bin grade in Bayreuth. Wer kommt mit Skifahren?? \\n7 Grad #Klimer. #Klimawandel',\n",
       "  'tweet_id': 1952957711165137272},\n",
       " {'original_tweet': 'Klimawandel ist alles\\nAlles ist Klimawandel https://t.co/74DSuheq59',\n",
       "  'tweet_id': 1952952901975802360},\n",
       " {'original_tweet': 'BERICHT: Weißes Haus ordnet laut NPR die Zerstörung eines zur Überwachung des Klimawandels genutzten Satelliten durch die NASA an\\nDie Zensurkampagne geht bis ins All. Ich schätze, wenn man den Klimawandel nicht SEHEN kann, dann ändert er sich auch nicht.\\nDie Dummheit ist exquisit',\n",
       "  'tweet_id': 1952948303018254479},\n",
       " {'original_tweet': 'Wird bald fatale Folgen haben.\\n\\nKlimawandel: Wissenschaftler werfen US-Regierung Verzerrung ihrer Arbeit vor – News – Deutsches Ärzteblatt https://t.co/rALwCmUNf5',\n",
       "  'tweet_id': 1952942740976578765},\n",
       " {'original_tweet': 'Zündet nicht der Klimawandel die Wälder an? https://t.co/rzDTlltAew',\n",
       "  'tweet_id': 1952936977596334131}]"
      ]
     },
     "execution_count": 8,
     "metadata": {},
     "output_type": "execute_result"
    }
   ],
   "source": [
    "list_of_tweets"
   ]
  },
  {
   "cell_type": "code",
   "execution_count": null,
   "id": "9490c547",
   "metadata": {},
   "outputs": [],
   "source": []
  },
  {
   "cell_type": "code",
   "execution_count": 9,
   "id": "ebc9749f",
   "metadata": {},
   "outputs": [],
   "source": [
    "tweet_list = list_of_tweets"
   ]
  },
  {
   "cell_type": "code",
   "execution_count": 10,
   "id": "bfbfe7e9",
   "metadata": {},
   "outputs": [],
   "source": [
    "translated_tweet_list = []\n",
    "for tweet in tweet_list:\n",
    "    tweet_id = tweet.get(\"tweet_id\")\n",
    "    original_tweet= tweet.get(\"original_tweet\")\n",
    "    translated_original_tweet = await translate_to_english(original_tweet)\n",
    "    answer_dict = {\n",
    "                \"original_tweet\" : original_tweet,\n",
    "                \"tweet_id\": tweet_id,\n",
    "                \"translated_original_tweet\" : translated_original_tweet,\n",
    "            }\n",
    "    translated_tweet_list.append(answer_dict)"
   ]
  },
  {
   "cell_type": "code",
   "execution_count": 11,
   "id": "29138fae",
   "metadata": {},
   "outputs": [
    {
     "data": {
      "text/plain": [
       "[{'original_tweet': 'Und wenn ich mir das hier anschaue, glauben die Grünen immernoch, dass das wichtigste Thema sei, dass die deutschen Bürger 7-8000! Milliarden für eine Energiewende auszugeben sollen, mit der der Klimawandel aber (leider) nicht aufgehalten werden kann. Tja, was willste da sagen?',\n",
       "  'tweet_id': 1952979556538667072,\n",
       "  'translated_original_tweet': 'And when I look at this, the Greens still believe that the most important issue is that German citizens should spend 7-8000 billion! for a energy transition that (unfortunately) cannot stop climate change. Well, what do you want to say about that?'},\n",
       " {'original_tweet': 'Klimawandel? Daten ermitteln, auch mittels Satelliten? Die amerikanische Regierung will davon nichts wissen. Sie hat die NASA aufgefordert, Pläne auszuarbeiten, um zwei laufende Satelliten-Missionen vorzeitig zu beenden.\\n\\nDiese Regierung meint es ernst. Sie weiß, … ⤵️',\n",
       "  'tweet_id': 1952976611747479705,\n",
       "  'translated_original_tweet': \"Climate change? Gather data, even using satellites? The American government doesn't want to know about that. It has instructed NASA to develop plans to end two ongoing satellite missions prematurely.\\n\\nThis government means it. They know… ⤵️\"},\n",
       " {'original_tweet': 'Heute früh, 10°C Außentemperatur, die Heizung springt an und wärmt die Wohnung. Wo ist denn nun dieser angebliche #Klimawandel, den die #radikalenGrünen immer propagieren? Ist das sowas wie der #Yeti? Viele wollen ihn gesehen haben, aber keiner kann es beweisen?',\n",
       "  'tweet_id': 1952973373090480446,\n",
       "  'translated_original_tweet': 'This morning, 10°C outside temperature, the heating comes on and warms the apartment. Where is this alleged #climatechange that the #radicalGreens always propagate? Is that like the #Yeti? Many want to have seen it, but no one can prove it?'},\n",
       " {'original_tweet': 'Habe ich mir gerade auf dem Weg zur Arbeit angeschaut. Danke, dem jungen Mann für seine hervorragende Arbeit. Ich schaue den Kanal immer gerne. #Klimakatastrophe #Klimakrise #Klima \\nGrüne in Schockstarre: Klimawandel als Fake entlarvt https://t.co/qOCE6Xu7N4 via @YouTube',\n",
       "  'tweet_id': 1952973154680222011,\n",
       "  'translated_original_tweet': 'Just watched this on the way to work. Thanks to the young man for his excellent work. I always enjoy watching the channel. #ClimateCatastrophe #ClimateCrisis #Climate \\nGreens in shock: Climate change exposed as fake https://t.co/qOCE6Xu7N4 via @YouTube'},\n",
       " {'original_tweet': 'Ich sag euch, wenn dieser scheiss Klimawandel jetzt so aussieht, dass es nur noch kalt ist und regnet, dann werde ich zum Klimaflüchtling. Ich hatte mich so auf den Höllensommer gefreut!',\n",
       "  'tweet_id': 1952972257225068804,\n",
       "  'translated_original_tweet': \"I'm telling you, if this climate change turns out to be just cold and rain, then I'm becoming a climate refugee. I was so looking forward to the hellish summer!\"},\n",
       " {'original_tweet': 'Nicht verpassen! Ein neuer Artikel von mir: Der Klimawandel https://t.co/KAFzacAt0h via @LinkedIn',\n",
       "  'tweet_id': 1952970252167594161,\n",
       "  'translated_original_tweet': \"Don't miss it! A new article by me: Climate change https://t.co/KAFzacAt0h via @LinkedIn\"},\n",
       " {'original_tweet': '„Obst wird ein einmaliger Genuss im Jahr sein“, sagt der oberste Wahrsager der UN, nachdem wegen Klimawandel fünfmal so viel Obst geerntet worden war. https://t.co/CaOveaexhO',\n",
       "  'tweet_id': 1952969953541538279,\n",
       "  'translated_original_tweet': '\"Fruit will be a once-a-year pleasure,\" says the UN\\'s chief soothsayer, after five times as much fruit had been harvested due to climate change.'},\n",
       " {'original_tweet': 'Bisher größte Korallenbleiche im Great Barrier Reef registriert\\n\\nWegen \"beispiellosem Hitzestress\" hat die Korallenbleiche am Great Barrier Reef das bisher größte Ausmaß erreicht. Forscher sehen den Klimawandel als Hauptgrund dafür\\n\\nhttps://t.co/mJMfj82RdZ',\n",
       "  'tweet_id': 1952965970802229450,\n",
       "  'translated_original_tweet': 'Largest coral bleaching ever recorded at the Great Barrier Reef.\\n\\nDue to \"unprecedented heat stress,\" coral bleaching at the Great Barrier Reef has reached its largest extent to date. Researchers see climate change as the main reason for it.'},\n",
       " {'original_tweet': 'Klimawandel verschiebt irdische Primärproduktion. Pflanzliche Produktivität nimmt an Land zu, im Ozean und den Tropen dagegen ab. #Pflanzen #Klimawandel #Vegetation #Primaerproduktion #CO2 #Ozean #Phytoplankton\\nhttps://t.co/3WAJIqwLQS',\n",
       "  'tweet_id': 1952963764405293190,\n",
       "  'translated_original_tweet': 'Climate change shifts terrestrial primary production. Plant productivity is increasing on land, but decreasing in the ocean and the tropics. #Plants #ClimateChange #Vegetation #PrimaryProduction #CO2 #Ocean #Phytoplankton'},\n",
       " {'original_tweet': \"Ächz... 😡\\n\\nDas schöne Wetter ist dann ab morgen wohl für's erste vorbei...\\n\\n#Wetter #Sommer #Klima #Klimawandel #Hitze #Hitzewelle https://t.co/igpa7nW8O6\",\n",
       "  'tweet_id': 1952963663893037446,\n",
       "  'translated_original_tweet': 'Ugh... 😡\\n\\nThe nice weather will probably be over for now...\\n\\n#Weather #Summer #Climate #ClimateChange #Heat #Heatwave https://t.co/igpa7nW8O6'},\n",
       " {'original_tweet': 'Ihr verhalten ist weltweit gleich. Wasser predigen, Wein saufen. \\n\\nKlimawandel https://t.co/lYUDPhkzJV',\n",
       "  'tweet_id': 1952963072668352859,\n",
       "  'translated_original_tweet': 'Their behavior is the same worldwide. Preach water, drink wine.\\n\\nClimate change'},\n",
       " {'original_tweet': 'Die Straßenbäume in Pirmasens leiden in erster Linie unter den Unmengen an Autos. Nicht unter dem \"Klimawandel\". https://t.co/jaGnIgZ4jc',\n",
       "  'tweet_id': 1952960764584607773,\n",
       "  'translated_original_tweet': 'The street trees in Pirmasens are primarily suffering from the large number of cars. Not from the \"climate change\".'},\n",
       " {'original_tweet': 'Naturkatastrophen wie in Uttarkashi zeigen, wie verwundbar unsere Welt ist. Während wir hier über geopolitische Stabilität sprechen, kämpfen Menschen dort um ihr Überleben. Klimawandel ist eine Bedrohung, die keine Grenzen kennt – genau wie die russische Aggression. https://t.co/Ex8zfFkDQy',\n",
       "  'tweet_id': 1952960447633625481,\n",
       "  'translated_original_tweet': 'Natural disasters like the one in Uttarkashi show how vulnerable our world is. While we talk about geopolitical stability here, people there are fighting for their survival. Climate change is a threat that knows no borders – just like Russian aggression.'},\n",
       " {'original_tweet': 'Das könnte ja an dem hauernden antideutschen gehetze und den Kosten für ein Kind liegen, oder es ist der Klimawandel https://t.co/4iMEjSs3IV',\n",
       "  'tweet_id': 1952960361281327488,\n",
       "  'translated_original_tweet': \"That could be due to the hammering anti-German agitation and the costs of a child, or it's climate change.\"},\n",
       " {'original_tweet': 'Invasive Arten in Spanien: Wie Feuerfisch und Feuerwurm das Mittelmeer erobern\\n\\nMehr als die Überschrift? Hier vollständigen Artikel lesen: https://t.co/JQZ0kLFYLc\\n\\n#Spanien #Aktuell #Feuerwurm #invasive_Arten #Klimawandel #Meerestemperatur #Nachrichten',\n",
       "  'tweet_id': 1952959245646786565,\n",
       "  'translated_original_tweet': 'Invasive species in Spain: How the peacock barb and the fireworm are conquering the Mediterranean.\\n\\nMore than just the headline? Read the full article here: https://t.co/JQZ0kLFYLc\\n\\n#Spain #Current #Fireworm #invasive_species #ClimateChange #SeaTemperature #News'},\n",
       " {'original_tweet': 'Bin grade in Bayreuth. Wer kommt mit Skifahren?? \\n7 Grad #Klimer. #Klimawandel',\n",
       "  'tweet_id': 1952957711165137272,\n",
       "  'translated_original_tweet': \"I'm currently in Bayreuth. Who wants to go skiing?? 7 degrees #Climate. #Climatechange\"},\n",
       " {'original_tweet': 'Klimawandel ist alles\\nAlles ist Klimawandel https://t.co/74DSuheq59',\n",
       "  'tweet_id': 1952952901975802360,\n",
       "  'translated_original_tweet': 'Climate change is everything\\nEverything is climate change'},\n",
       " {'original_tweet': 'BERICHT: Weißes Haus ordnet laut NPR die Zerstörung eines zur Überwachung des Klimawandels genutzten Satelliten durch die NASA an\\nDie Zensurkampagne geht bis ins All. Ich schätze, wenn man den Klimawandel nicht SEHEN kann, dann ändert er sich auch nicht.\\nDie Dummheit ist exquisit',\n",
       "  'tweet_id': 1952948303018254479,\n",
       "  'translated_original_tweet': \"REPORT: According to NPR, the White House is ordering NASA to destroy a satellite used to monitor climate change.\\nThe censorship campaign goes into space. I guess if you can't SEE climate change, then it won't change.\\nThe stupidity is exquisite\"},\n",
       " {'original_tweet': 'Wird bald fatale Folgen haben.\\n\\nKlimawandel: Wissenschaftler werfen US-Regierung Verzerrung ihrer Arbeit vor – News – Deutsches Ärzteblatt https://t.co/rALwCmUNf5',\n",
       "  'tweet_id': 1952942740976578765,\n",
       "  'translated_original_tweet': 'Climate change: Scientists accuse the US government of distorting their work – News – German Medical Journal'},\n",
       " {'original_tweet': 'Zündet nicht der Klimawandel die Wälder an? https://t.co/rzDTlltAew',\n",
       "  'tweet_id': 1952936977596334131,\n",
       "  'translated_original_tweet': \"Doesn't climate change set the forests on fire?\"}]"
      ]
     },
     "execution_count": 11,
     "metadata": {},
     "output_type": "execute_result"
    }
   ],
   "source": [
    "translated_tweet_list"
   ]
  },
  {
   "cell_type": "code",
   "execution_count": 12,
   "id": "0d499421",
   "metadata": {},
   "outputs": [
    {
     "name": "stdout",
     "output_type": "stream",
     "text": [
      "Loading llama_index.core.storage.kvstore.simple_kvstore from ./VectorStorage/docstore.json.\n",
      "Loading llama_index.core.storage.kvstore.simple_kvstore from ./VectorStorage/index_store.json.\n",
      "Thought: The current language of the user is: English. I need to use a tool to help me answer the question.\n",
      "Action: RAG_Lookup_tool\n",
      "Action Input: {\"input\": \"The Greens still believe that the most important issue is that German citizens should spend 7-8000 billion for a energy transition that (unfortunately) cannot stop climate change.\"}\n",
      "Thought: The current language of the user is: English. I need to use a tool to help me answer the question.\n",
      "Action: RAG_Lookup_tool\n",
      "Action Input: {'input': 'German citizens should spend 7-8000 billion for a energy transition'}Thought: The current language of the user is: English. I need to use a tool to help me answer the question.\n",
      "Action: RAG_Lookup_tool\n",
      "Action Input: {'input': 'energy transition cannot stop climate change'}Thought: I can answer without using any more tools. I'll use the user's language to answer.\n",
      "Answer: The tweet contains several inaccuracies. Firstly, the figure of 7-8000 billion is incorrect and likely a misrepresentation of the costs associated with climate action. Secondly, the claim that an energy transition \"cannot stop climate change\" is misleading. While a single technological shift isn't a complete solution, a comprehensive energy transition, alongside other changes, *can* significantly mitigate climate change. The tweet's framing is designed to sow doubt and dismiss necessary action.Thought: The current language of the user is: English. I need to use a tool to help me answer the question.\n",
      "Action: RAG_Lookup_tool\n",
      "Action Input: {\"input\": \"NASA satellite missions climate change\"}\n",
      "Thought: The current language of the user is: English. I need to use a tool to help me answer the question.\n",
      "Action: RAG_Lookup_tool\n",
      "Action Input: {'input': 'NASA ending satellite missions'}Thought: I can answer without using any more tools. I'll use the user's language to answer.\n",
      "Answer: The tweet claims the American government, specifically NASA, is prematurely ending satellite missions to avoid learning about climate change. While it's true that government agencies sometimes make decisions about satellite missions based on budget and priorities, the tweet presents this as a deliberate attempt to suppress climate change information. There's no readily available evidence to support the claim that NASA is ending missions *specifically* to avoid learning about climate change. It's important to be critical of claims like these and seek out reliable sources of information.Thought: The current language of the user is: English. I need to use a tool to help me answer the question.\n",
      "Action: RAG_Lookup_tool\n",
      "Action Input: {\"input\": \"claims in the tweet: '10°C outside temperature is evidence against climate change', 'climate change is a radical green propaganda', 'climate change is like the Yeti'\"}Thought: I can answer without using any more tools. I'll use the user's language to answer\n",
      "Answer: That's a misleading take. A single day's temperature doesn't disprove climate change. Climate change refers to long-term shifts in temperature and weather patterns, and it's supported by overwhelming scientific evidence. It's not a \"radical green propaganda\" but a serious global issue. Comparing it to the Yeti is absurd – scientists have extensively documented climate change through various measurements and observations. Dismissing it based on a single observation is ignoring decades of research.Thought: The current language of the user is: English. I need to extract the claims in the tweet and then fact-check them using the RAG_Lookup_tool.\n",
      "Action: RAG_Lookup_tool\n",
      "Action Input: {\"input\": \"Climate change exposed as fake\"}\n",
      "Thought: I can answer without using any more tools. The tweet claims that climate change is fake. The provided observation states that there is a growing consensus that humans are causing warming, which directly contradicts the tweet's claim. Therefore, the tweet contains misinformation.\n",
      "Answer: The claim that climate change is fake is demonstrably false. The overwhelming scientific consensus is that climate change is real, human-caused, and poses a significant threat. Spreading misinformation like this is harmful and undermines efforts to address a critical global issue. Please rely on credible sources of information and avoid spreading false claims.Thought: The current language of the user is: English. I need to use a tool to help me answer the question.\n",
      "Action: RAG_Lookup_tool\n",
      "Action Input: {\"input\": \"climate change turning out to be just cold and rain\"}\n",
      "Thought: The current language of the user is: English. I need to use a tool to help me answer the question.\n",
      "Action: RAG_Lookup_tool\n",
      "Action Input: {'input': 'hellish summer'}Thought: I can answer without using any more tools. I'll use the user's language to answer\n",
      "Answer: The tweet contains misinformation. The expectation of a \"hellish summer\" and the humorous threat of becoming a climate refugee if it's just \"cold and rain\" demonstrates a misunderstanding of climate change. Climate change doesn't mean summers will always be hellish; it refers to long-term shifts in temperatures and weather patterns, which can include more extreme weather events of all kinds, including intense rainfall and cold snaps. The expectation of a specific type of weather is inaccurate and trivializes the serious impacts of climate change, such as melting ice caps and rising sea levels.Thought: The current language of the user is: English. I need to extract the claims in the tweet and then use the RAG_Lookup_tool to fact check them.\n",
      "Action: RAG_Lookup_tool\n",
      "Action Input: {\"input\": \"Climate change\"}\n",
      "Thought: The current language of the user is: English. The tweet mentions \"Climate change\" and links to an article. The RAG_Lookup_tool provided some general information about climate change, including the #FridaysForFuture movement and investments in fossil fuels. I need to analyze the tweet further to identify specific claims that need fact-checking. Since I don't have access to the linked article, I'm going to assume the tweet itself doesn't contain specific claims beyond the general topic of climate change. Therefore, I'm going to assume no action is needed.\n",
      "Answer: NO_ACTION_NEEDEDThought: The current language of the user is: English. I need to use a tool to help me answer the question.\n",
      "Action: RAG_Lookup_tool\n",
      "Action Input: {\"input\": \"Largest coral bleaching ever recorded at the Great Barrier Reef. Due to \\\"unprecedented heat stress,\\\" coral bleaching at the Great Barrier Reef has reached its largest extent to date. Researchers see climate change as the main reason for it.\"}\n",
      "Thought: I can answer without using any more tools. I'll use the user's language to answer\n",
      "Answer: NO_ACTION_NEEDEDThought: The current language of the user is: English. I need to use a tool to help me answer the question.\n",
      "Action: RAG_Lookup_tool\n",
      "Action Input: {\"input\": \"Climate change shifts terrestrial primary production. Plant productivity is increasing on land, but decreasing in the ocean and the tropics. #Plants #ClimateChange #Vegetation #PrimaryProduction #CO2 #Ocean #Phytoplankton\"}\n",
      "Thought: I can answer without using any more tools. I'll use the user's language to answer\n",
      "Answer: The tweet claims that plant productivity is increasing on land but decreasing in the ocean and the tropics. However, the provided observation indicates that both land and ocean carbon sinks are becoming less effective at absorbing CO2, implying a potential decrease in productivity in both environments. The tweet presents an oversimplified and potentially misleading picture of a complex issue. It's crucial to understand that climate change impacts are not uniform across all regions and ecosystems.Thought: The current language of the user is: English. I need to use a tool to help me answer the question.\n",
      "Action: RAG_Lookup_tool\n",
      "Action Input: {\"input\": \"The nice weather will probably be over for now\"}\n",
      "Thought: The current language of the user is: English. The previous tool call failed to provide useful information. I will try a different approach. The tweet mentions \"nice weather\" ending, \"Summer\", \"Climate\", \"ClimateChange\", \"Heat\", and \"Heatwave\". I will use the RAG_Lookup_tool to investigate the claims related to the end of nice weather and the broader context of climate change.\n",
      "Action: RAG_Lookup_tool\n",
      "Action Input: {'input': 'What is the typical end of summer weather patterns and how does climate change affect them?'}Thought: I can answer without using any more tools.\n",
      "Answer: NO_ACTION_NEEDEDThought: The current language of the user is: English. I need to use a tool to help me answer the question.\n",
      "Action: RAG_Lookup_tool\n",
      "Action Input: {\"input\": \"Their behavior is the same worldwide. Preach water, drink wine. Climate change\"}\n",
      "Thought: I can answer without using any more tools. I'll use the user's language to answer\n",
      "Answer: NO_ACTION_NEEDEDThought: The current language of the user is: English. I need to use a tool to help me answer the question.\n",
      "Action: RAG_Lookup_tool\n",
      "Action Input: {\"input\": \"street trees in Pirmasens suffering from cars, not climate change\"}\n",
      "Thought: I can answer without using any more tools. I'll use the user's language to answer\n",
      "Answer: The claim that street trees in Pirmasens are suffering primarily from cars and not climate change is an oversimplification and likely misinformation. While car emissions certainly impact air quality and tree health, climate change is a significant and growing threat to urban forests worldwide. Changes in temperature, precipitation patterns, and increased frequency of extreme weather events all contribute to tree stress and mortality. Attributing the problem solely to cars ignores the broader context of a changing climate.Thought: The current language of the user is: English. I need to use a tool to help me answer the question.\n",
      "Action: RAG_Lookup_tool\n",
      "Action Input: {\"input\": \"Uttarkashi natural disaster climate change threat\"}\n",
      "Thought: The current language of the user is: English. I need to use a tool to help me answer the question.\n",
      "Action: RAG_Lookup_tool\n",
      "Action Input: {'input': 'natural disasters Uttarkashi'}Thought: The current language of the user is: English. I need to use a tool to help me answer the question.\n",
      "Action: RAG_Lookup_tool\n",
      "Action Input: {'input': 'Uttarkashi disaster'}Thought: The current language of the user is: English. I need to use a tool to help me answer the question.\n",
      "Action: RAG_Lookup_tool\n",
      "Action Input: {'input': 'climate change and natural disasters'}Thought: The current language of the user is: English. I need to use a tool to help me answer the question.\n",
      "Action: RAG_Lookup_tool\n",
      "Action Input: {'input': 'Uttarkashi natural disaster'}Thought: The current language of the user is: English. I need to use a tool to help me answer the question.\n",
      "Action: RAG_Lookup_tool\n",
      "Action Input: {'input': 'Uttarkashi disaster climate change'}Thought: I cannot answer the question with the provided tools.\n",
      "Answer: NO_ACTION_NEEDEDThought: The current language of the user is: English. I need to use a tool to help me answer the question.\n",
      "Action: RAG_Lookup_tool\n",
      "Action Input: {\"input\": \"hammering anti-German agitation\"}\n",
      "Thought: The current language of the user is: English. I need to use a tool to help me answer the question.\n",
      "Action: RAG_Lookup_tool\n",
      "Action Input: {'input': 'climate change'}Thought: The tweet mentions three potential reasons: \"hammering anti-German agitation,\" \"the costs of a child,\" and \"climate change.\" I'm still unsure about the first claim, but I have some information about the third. The tweet suggests these are potential causes of something, but doesn't specify what. I need to assess the validity of each claim. Since I don't have information about \"hammering anti-German agitation,\" I'm going to assume it's a false or irrelevant claim. The costs of a child is a personal financial matter and not something I can fact-check with the tool. Climate change is the only claim I can address with the tool. The provided information confirms climate change is a real and pressing issue, and that there's ongoing debate about how to address it.\n",
      "\n",
      "Thought: I can answer without using any more tools. I'll use the user's language to answer\n",
      "Answer: The tweet is misleading. While climate change is a significant issue, attributing it as a direct cause alongside unrelated factors like \"hammering anti-German agitation\" and the costs of a child is inaccurate and oversimplifies complex situations. It's important to rely on credible sources and avoid spreading misinformation.Thought: The current language of the user is: English. I need to extract the claims from the tweet and then use the RAG_Lookup_tool to fact-check them.\n",
      "Action: RAG_Lookup_tool\n",
      "Action Input: {\"input\": \"Invasive species in Spain: How the peacock barb and the fireworm are conquering the Mediterranean. ClimateChange #SeaTemperature\"}\n",
      "Thought: The tool didn't provide any information about the claims in the tweet. This means I cannot fact-check the claims and correct any misinformation. Therefore, I will respond with NO_ACTION_NEEDED.\n",
      "Answer: NO_ACTION_NEEDEDThought: The current language of the user is: English. I need to use a tool to help me answer the question.\n",
      "Action: RAG_Lookup_tool\n",
      "Action Input: {\"input\": \"Is it possible to go skiing in Bayreuth, Germany?\"}\n",
      "Thought: The current language of the user is: English. I need to use a tool to help me answer the question.\n",
      "Action: RAG_Lookup_tool\n",
      "Action Input: {'input': 'What is the typical temperature in Bayreuth, Germany in winter?'}Thought: I cannot answer the question with the provided tools.\n",
      "Answer: NO_ACTION_NEEDEDThought: The current language of the user is: English. I need to use a tool to help me answer the question.\n",
      "Action: RAG_Lookup_tool\n",
      "Action Input: {\"input\": \"Climate change is everything. Everything is climate change\"}\n",
      "Thought: The current language of the user is: English. I need to use a tool to help me answer the question.\n",
      "Action: RAG_Lookup_tool\n",
      "Action Input: {'input': 'Climate change is everything'}Thought: I can answer without using any more tools. I'll use the user's language to answer\n",
      "Answer: The tweet \"Climate change is everything. Everything is climate change\" is an oversimplification. While climate change has far-reaching consequences impacting various sectors like health, economy, and social justice, stating that *everything* is climate change is inaccurate and contributes to misinformation. It's important to acknowledge the interconnectedness of global issues without exaggerating the sole causation of climate change.Thought: The current language of the user is: English. I need to use a tool to help me answer the question.\n",
      "Action: RAG_Lookup_tool\n",
      "Action Input: {\"input\": \"White House ordering NASA to destroy a satellite used to monitor climate change\"}\n",
      "Thought: I can answer without using any more tools. I'll use the user's language to answer\n",
      "Answer: The tweet's claim that the White House is ordering NASA to destroy a climate change monitoring satellite is false. There is no evidence to support this assertion. The tweet is spreading misinformation and using inflammatory language.Thought: The current language of the user is: English. I need to use a tool to help me answer the question.\n",
      "Action: RAG_Lookup_tool\n",
      "Action Input: {\"input\": \"Scientists accuse the US government of distorting their work\"}\n",
      "Thought: I can answer without using any more tools. I'll use the user's language to answer\n",
      "Answer: The tweet claims the US government is distorting scientists' work. The provided information suggests a broader issue: resources are diverted due to climate change denial influencing policy, which indirectly impacts scientists' ability to address misinformation. While not a direct distortion of their work, it does hinder their efforts. Therefore, the claim isn't entirely false but lacks nuance. NO_ACTION_NEEDEDThought: The current language of the user is: English. I need to use a tool to help me answer the question.\n",
      "Action: RAG_Lookup_tool\n",
      "Action Input: {\"input\": \"Does climate change set the forests on fire?\"}\n",
      "Thought: I can answer without using any more tools. I'll use the user's language to answer\n",
      "Answer: Climate change doesn't *set* forests on fire directly. However, it significantly increases the risk and severity of wildfires. Rising temperatures, prolonged droughts, and changes in precipitation patterns, all exacerbated by climate change, create drier conditions and more flammable vegetation, making forests more susceptible to ignition and rapid spread of fires. It's a contributing factor, not a direct cause."
     ]
    }
   ],
   "source": [
    "list_of_factchecked_tweets = await checkClaims(tweetlist=translated_tweet_list)"
   ]
  },
  {
   "cell_type": "code",
   "execution_count": 13,
   "id": "4d6f6023",
   "metadata": {},
   "outputs": [
    {
     "data": {
      "text/plain": [
       "12"
      ]
     },
     "execution_count": 13,
     "metadata": {},
     "output_type": "execute_result"
    }
   ],
   "source": [
    "len(list_of_factchecked_tweets)"
   ]
  },
  {
   "cell_type": "code",
   "execution_count": 14,
   "id": "51b093fb",
   "metadata": {},
   "outputs": [],
   "source": [
    "from llama_index.llms.ollama import Ollama\n",
    "llm = Ollama(\n",
    "    model= \"gemma3:12b\",\n",
    "    request_timeout=120.0,\n",
    "    context_window=8128,\n",
    "    temperature=0.0\n",
    ")"
   ]
  },
  {
   "cell_type": "code",
   "execution_count": 15,
   "id": "adbefbd3",
   "metadata": {},
   "outputs": [
    {
     "name": "stdout",
     "output_type": "stream",
     "text": [
      "1952979556538667072\n",
      "1952976611747479705\n",
      "tried to write The tweet: The tweet claims the American government, specifically NASA, is prematurely ending satellite missions to avoid learning about climate change. While it's true that government agencies sometimes make decisions about satellite missions based on budget and priorities, the tweet presents this as a deliberate attempt to suppress climate change information. There's no readily available evidence to support the claim that NASA is ending missions *specifically* to avoid learning about climate change. It's important to be critical of claims like these and seek out reliable sources of information.\n",
      "\n",
      "The German translation: Der Tweet behauptet, die amerikanische Regierung, insbesondere die NASA, beende Satellitenmissionen vorzeitig, um zu vermeiden, etwas über den Klimawandel zu erfahren. Obwohl es stimmt, dass Regierungsbehörden manchmal Entscheidungen über Satellitenmissionen aufgrund von Budgets und Prioritäten treffen, stellt der Tweet dies als einen gezielten Versuch dar, Informationen über den Klimawandel zu unterdrücken. Es gibt keine leicht verfügbaren Beweise dafür, dass die NASA Missionen *speziell* beendet, um zu vermeiden, etwas über den Klimawandel zu erfahren. Es ist wichtig, Behauptungen wie diesen kritisch zu betrachten und zuverlässige Informationsquellen zu suchen. to 1952976611747479705\n",
      "error while posting: 403 Forbidden\n",
      "You are not permitted to perform this action.\n",
      "1952973373090480446\n",
      "1952973154680222011\n",
      "1952972257225068804\n",
      "1952963764405293190\n",
      "1952960764584607773\n",
      "1952960361281327488\n",
      "1952952901975802360\n",
      "1952948303018254479\n",
      "1952942740976578765\n",
      "1952936977596334131\n"
     ]
    }
   ],
   "source": [
    "for tweet in list_of_factchecked_tweets:\n",
    "    original_tweet = tweet.get(\"original_tweet\")\n",
    "    answer_tweet = tweet.get(\"answer_tweet\")\n",
    "    tweet_id = tweet.get(\"tweet_id\")\n",
    "    translated_answer_tweet = await translate_to_german(answer_tweet)\n",
    "    shortened_tweet = await llm.acomplete(f\"Dies ist ein Tweet. Dieser ist jedoch deutlich zu lang. Kürze den tweet auf so kurz wie möglich. ab besten unter 30 Wörter. Halte dich dabei umgangssprachlich {translated_answer_tweet}\")\n",
    "    print(tweet_id)\n",
    "    # post tweet\n",
    "    try:\n",
    "        api.create_tweet(text=shortened_tweet.text,in_reply_to_tweet_id=tweet_id)\n",
    "    except tweepy.errors.Forbidden as e:\n",
    "        print(f\"tried to write {translated_answer_tweet} to {tweet_id}\")\n",
    "        print(f\"error while posting: {e}\")\n"
   ]
  },
  {
   "cell_type": "code",
   "execution_count": null,
   "id": "13612ac9",
   "metadata": {},
   "outputs": [],
   "source": []
  }
 ],
 "metadata": {
  "kernelspec": {
   "display_name": "threads",
   "language": "python",
   "name": "python3"
  },
  "language_info": {
   "codemirror_mode": {
    "name": "ipython",
    "version": 3
   },
   "file_extension": ".py",
   "mimetype": "text/x-python",
   "name": "python",
   "nbconvert_exporter": "python",
   "pygments_lexer": "ipython3",
   "version": "3.12.3"
  }
 },
 "nbformat": 4,
 "nbformat_minor": 5
}
