{
 "cells": [
  {
   "cell_type": "code",
   "execution_count": null,
   "id": "8b235258",
   "metadata": {},
   "outputs": [],
   "source": [
    "import tweepy\n",
    "from TweetTransformations import checkClaims, translate_to_german,  translate_to_english, deconstructTwitterQueryResponse\n",
    "from config import access_token, access_token_secret, bearer_token, consumer_key, consumer_secret, API_KEY\n"
   ]
  },
  {
   "cell_type": "code",
   "execution_count": null,
   "id": "dac324fd",
   "metadata": {},
   "outputs": [],
   "source": [
    "api = tweepy.Client(\n",
    "    access_token=access_token,\n",
    "    access_token_secret=access_token_secret,\n",
    "    bearer_token=bearer_token,\n",
    "    consumer_key=consumer_key,\n",
    "    consumer_secret=consumer_secret,\n",
    "    wait_on_rate_limit=False)"
   ]
  },
  {
   "cell_type": "code",
   "execution_count": null,
   "id": "a819002a",
   "metadata": {},
   "outputs": [],
   "source": [
    "# keyword search for klimawandel \n",
    "response = api.search_recent_tweets(query=\"Klimawandel -is:retweet -is:reply\", \n",
    "                                    expansions=[\"author_id\",'referenced_tweets.id'],\n",
    "                                    tweet_fields=[\"reply_settings\"],\n",
    "                                    user_fields=[\"protected\"],\n",
    "                                    max_results=20)"
   ]
  },
  {
   "cell_type": "code",
   "execution_count": null,
   "id": "d4816cd1",
   "metadata": {},
   "outputs": [],
   "source": [
    "response.data[0].id"
   ]
  },
  {
   "cell_type": "code",
   "execution_count": null,
   "id": "2a8337ea",
   "metadata": {},
   "outputs": [],
   "source": [
    "tweet_list = deconstructTwitterQueryResponse(response)"
   ]
  },
  {
   "cell_type": "code",
   "execution_count": null,
   "id": "25a89808",
   "metadata": {},
   "outputs": [],
   "source": [
    "response.data"
   ]
  },
  {
   "cell_type": "code",
   "execution_count": null,
   "id": "6de6016d",
   "metadata": {},
   "outputs": [],
   "source": [
    "list_of_tweets = []\n",
    "for tweet in response.data:\n",
    "    # CORRECTED LOGIC: Check the 'reply_settings' attribute directly\n",
    "    if tweet.reply_settings != 'everyone':\n",
    "        print(f\"Skipping Tweet {tweet.id}: Replies are limited to '{tweet.reply_settings}'.\")\n",
    "        continue  # Skip to the next tweet\n",
    "    \n",
    "    # If the check passes, you can process or add the tweet\n",
    "    print(f\"OK to reply to Tweet {tweet.id}\")\n",
    "    tweet_id = tweet.id\n",
    "    original_tweet = tweet.text\n",
    "    answer_dict = {\n",
    "            \"original_tweet\" : original_tweet,\n",
    "            \"tweet_id\": tweet_id\n",
    "        }\n",
    "    list_of_tweets.append(answer_dict)\n",
    "    "
   ]
  },
  {
   "cell_type": "code",
   "execution_count": null,
   "id": "da654752",
   "metadata": {},
   "outputs": [],
   "source": [
    "list_of_tweets"
   ]
  },
  {
   "cell_type": "code",
   "execution_count": null,
   "id": "ebc9749f",
   "metadata": {},
   "outputs": [],
   "source": [
    "tweet_list = list_of_tweets"
   ]
  },
  {
   "cell_type": "code",
   "execution_count": null,
   "id": "bfbfe7e9",
   "metadata": {},
   "outputs": [],
   "source": [
    "translated_tweet_list = []\n",
    "for tweet in tweet_list:\n",
    "    tweet_id = tweet.get(\"tweet_id\")\n",
    "    original_tweet= tweet.get(\"original_tweet\")\n",
    "    translated_original_tweet = await translate_to_english(original_tweet)\n",
    "    answer_dict = {\n",
    "                \"original_tweet\" : original_tweet,\n",
    "                \"tweet_id\": tweet_id,\n",
    "                \"translated_original_tweet\" : translated_original_tweet,\n",
    "            }\n",
    "    translated_tweet_list.append(answer_dict)"
   ]
  },
  {
   "cell_type": "code",
   "execution_count": null,
   "id": "29138fae",
   "metadata": {},
   "outputs": [],
   "source": [
    "translated_tweet_list"
   ]
  },
  {
   "cell_type": "code",
   "execution_count": null,
   "id": "0d499421",
   "metadata": {},
   "outputs": [],
   "source": [
    "list_of_factchecked_tweets = await checkClaims(tweetlist=translated_tweet_list)"
   ]
  },
  {
   "cell_type": "code",
   "execution_count": null,
   "id": "4d6f6023",
   "metadata": {},
   "outputs": [],
   "source": [
    "len(list_of_factchecked_tweets)"
   ]
  },
  {
   "cell_type": "code",
   "execution_count": null,
   "id": "51b093fb",
   "metadata": {},
   "outputs": [],
   "source": [
    "from llama_index.llms.ollama import Ollama\n",
    "from llama_index.llms.openrouter import OpenRouter\n",
    "\"\"\"llm = Ollama(\n",
    "    model= \"gemma3:12b\",\n",
    "    request_timeout=120.0,\n",
    "    context_window=8128,\n",
    "    temperature=0.0\n",
    ")\"\"\"\n",
    "llm=OpenRouter(\n",
    "    api_key=API_KEY,\n",
    "    context_window=8128,\n",
    "    model=\"google/gemma-3-12b-it\",\n",
    "    temperature=0.0\n",
    ")"
   ]
  },
  {
   "cell_type": "code",
   "execution_count": null,
   "id": "adbefbd3",
   "metadata": {},
   "outputs": [],
   "source": [
    "for tweet in list_of_factchecked_tweets:\n",
    "    answer_tweet = tweet.get(\"answer_tweet\")\n",
    "    tweet_id = tweet.get(\"tweet_id\")\n",
    "    translated_answer_tweet = await translate_to_german(answer_tweet)\n",
    "    # check if over character limit\n",
    "    if len(translated_answer_tweet) > 280:\n",
    "        translated_answer_tweet = await llm.acomplete(f\"Dies ist ein Tweet. Dieser ist jedoch deutlich zu lang. Kürze den tweet auf so kurz wie möglich. ab besten unter 30 Wörter. Halte dich dabei umgangssprachlich {translated_answer_tweet}\")\n",
    "    print(tweet_id)\n",
    "    # post tweet\n",
    "    try:\n",
    "        api.create_tweet(text=translated_answer_tweet.text,in_reply_to_tweet_id=tweet_id)\n",
    "    except tweepy.errors.Forbidden as e:\n",
    "        print(f\"tried to write {translated_answer_tweet} to {tweet_id}\")\n",
    "        print(f\"error while posting: {e}\")\n"
   ]
  }
 ],
 "metadata": {
  "kernelspec": {
   "display_name": "threads",
   "language": "python",
   "name": "python3"
  },
  "language_info": {
   "codemirror_mode": {
    "name": "ipython",
    "version": 3
   },
   "file_extension": ".py",
   "mimetype": "text/x-python",
   "name": "python",
   "nbconvert_exporter": "python",
   "pygments_lexer": "ipython3",
   "version": "3.12.3"
  }
 },
 "nbformat": 4,
 "nbformat_minor": 5
}
