{
 "cells": [
  {
   "cell_type": "code",
   "execution_count": null,
   "id": "d279d485",
   "metadata": {},
   "outputs": [],
   "source": [
    "from llama_index.core import Settings, SimpleDirectoryReader ,VectorStoreIndex\n",
    "from llama_index.llms.openai import OpenAI\n",
    "from llama_index.embeddings.openai import OpenAIEmbedding\n",
    "from llama_index.llms.ollama import Ollama\n",
    "from llama_index.embeddings.ollama import OllamaEmbedding\n",
    "from llama_index.core.tools import QueryEngineTool\n",
    "import json"
   ]
  },
  {
   "cell_type": "code",
   "execution_count": null,
   "id": "79db5f82",
   "metadata": {},
   "outputs": [],
   "source": [
    "documents = SimpleDirectoryReader(input_dir=\"./data\").load_data()"
   ]
  },
  {
   "cell_type": "code",
   "execution_count": null,
   "id": "a5298f23",
   "metadata": {},
   "outputs": [],
   "source": [
    "llm = Ollama(\n",
    "    model= \"gemma3:12b\",\n",
    "    request_timeout=120.0,\n",
    "    context_window=8128,\n",
    "    temperature=0.0\n",
    ")\n",
    "\n",
    "Settings.llm = llm\n",
    "Settings.chunk_size=512\n",
    "Settings.chunk_overlap=64\n",
    "\n",
    "embed_model = OllamaEmbedding(\n",
    "    model_name=\"snowflake-arctic-embed2:latest\",\n",
    "    ollama_additional_kwargs={\"mirostat\": 0},\n",
    ")\n",
    "Settings.embed_model = embed_model"
   ]
  },
  {
   "cell_type": "code",
   "execution_count": null,
   "id": "2c72747f",
   "metadata": {},
   "outputs": [],
   "source": [
    "index = VectorStoreIndex.from_documents(documents=documents)"
   ]
  },
  {
   "cell_type": "code",
   "execution_count": null,
   "id": "20821d2a",
   "metadata": {},
   "outputs": [],
   "source": [
    "index.storage_context.persist(persist_dir=f\"./VectorStorage\")"
   ]
  },
  {
   "cell_type": "code",
   "execution_count": null,
   "id": "79204fbe",
   "metadata": {},
   "outputs": [],
   "source": [
    "translated_original_tweet = \"Klimate change is a not even real, stop believing the medias lies!!!\""
   ]
  },
  {
   "cell_type": "code",
   "execution_count": null,
   "id": "cf0dad74",
   "metadata": {},
   "outputs": [],
   "source": [
    "tweet_valid =  await llm.acomplete(f\"This is a tweet about climate change: Your job is to evaluate if this tweet is fact chackable. If this tweet references recent news or is in any other form unchekable, answer with IRRELEVANT, if the tweet can be procecced further, aswer with RELEVANT. Do not anser with anything else {translated_original_tweet}\")\n",
    "tweet_valid"
   ]
  }
 ],
 "metadata": {
  "kernelspec": {
   "display_name": "threads",
   "language": "python",
   "name": "python3"
  },
  "language_info": {
   "codemirror_mode": {
    "name": "ipython",
    "version": 3
   },
   "file_extension": ".py",
   "mimetype": "text/x-python",
   "name": "python",
   "nbconvert_exporter": "python",
   "pygments_lexer": "ipython3",
   "version": "3.12.3"
  }
 },
 "nbformat": 4,
 "nbformat_minor": 5
}
