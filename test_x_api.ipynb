{
 "cells": [
  {
   "cell_type": "code",
   "execution_count": 2,
   "id": "d545732d",
   "metadata": {},
   "outputs": [],
   "source": [
    "import tweepy"
   ]
  },
  {
   "cell_type": "code",
   "execution_count": 3,
   "id": "d1bfceaa",
   "metadata": {},
   "outputs": [],
   "source": [
    "from config import access_token, access_token_secret, bearer_token, consumer_key, consumer_secret"
   ]
  },
  {
   "cell_type": "code",
   "execution_count": 4,
   "id": "e0461023",
   "metadata": {},
   "outputs": [],
   "source": [
    "api = tweepy.Client(\n",
    "    access_token=access_token,\n",
    "    access_token_secret=access_token_secret,\n",
    "    bearer_token=bearer_token,\n",
    "    consumer_key=consumer_key,\n",
    "    consumer_secret=consumer_secret,\n",
    "    wait_on_rate_limit=False)\n",
    "\n"
   ]
  },
  {
   "cell_type": "code",
   "execution_count": null,
   "id": "efe67f9f",
   "metadata": {},
   "outputs": [],
   "source": [
    "#response = api.search_recent_tweets(query=\"Klimawandel -is:retweet -is:response\", expansions=['referenced_tweets.id'])"
   ]
  },
  {
   "cell_type": "code",
   "execution_count": 5,
   "id": "ded2be64",
   "metadata": {},
   "outputs": [],
   "source": [
    "try:\n",
    "    api.create_tweet(text=\"Heute wieder fürs demonstrieren gehen bezahlt werden, gar kein bock\")#\n",
    "except tweepy.errors.TweepyExeption as e:\n",
    "    print(f\"error while posting {e}\")"
   ]
  },
  {
   "cell_type": "code",
   "execution_count": null,
   "id": "f92ef434",
   "metadata": {},
   "outputs": [],
   "source": [
    "for tweet in response.includes[\"tweets\"]:\n",
    "    print(tweet.id)\n",
    "    print(tweet.text)"
   ]
  },
  {
   "cell_type": "code",
   "execution_count": null,
   "id": "3ada550a",
   "metadata": {},
   "outputs": [],
   "source": []
  }
 ],
 "metadata": {
  "kernelspec": {
   "display_name": "threads",
   "language": "python",
   "name": "python3"
  },
  "language_info": {
   "codemirror_mode": {
    "name": "ipython",
    "version": 3
   },
   "file_extension": ".py",
   "mimetype": "text/x-python",
   "name": "python",
   "nbconvert_exporter": "python",
   "pygments_lexer": "ipython3",
   "version": "3.12.3"
  }
 },
 "nbformat": 4,
 "nbformat_minor": 5
}
