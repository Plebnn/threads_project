{
 "cells": [
  {
   "cell_type": "code",
   "execution_count": 3,
   "id": "d545732d",
   "metadata": {},
   "outputs": [],
   "source": [
    "import tweepy"
   ]
  },
  {
   "cell_type": "code",
   "execution_count": 24,
   "id": "d1bfceaa",
   "metadata": {},
   "outputs": [
    {
     "ename": "ImportError",
     "evalue": "cannot import name 'access_token' from 'config' (/home/nick/projects/threads_project/config.py)",
     "output_type": "error",
     "traceback": [
      "\u001b[31m---------------------------------------------------------------------------\u001b[39m",
      "\u001b[31mImportError\u001b[39m                               Traceback (most recent call last)",
      "\u001b[36mCell\u001b[39m\u001b[36m \u001b[39m\u001b[32mIn[24]\u001b[39m\u001b[32m, line 1\u001b[39m\n\u001b[32m----> \u001b[39m\u001b[32m1\u001b[39m \u001b[38;5;28;01mfrom\u001b[39;00m\u001b[38;5;250m \u001b[39m\u001b[34;01mconfig\u001b[39;00m\u001b[38;5;250m \u001b[39m\u001b[38;5;28;01mimport\u001b[39;00m access_token, access_token_secret, bearer_token, consumer_key, consumer_secret\n",
      "\u001b[31mImportError\u001b[39m: cannot import name 'access_token' from 'config' (/home/nick/projects/threads_project/config.py)"
     ]
    }
   ],
   "source": [
    "from config import access_token, access_token_secret, bearer_token, consumer_key, consumer_secret"
   ]
  },
  {
   "cell_type": "code",
   "execution_count": 5,
   "id": "e0461023",
   "metadata": {},
   "outputs": [],
   "source": [
    "api = tweepy.Client(\n",
    "    access_token=access_token,\n",
    "    access_token_secret=access_token_secret,\n",
    "    bearer_token=bearer_token,\n",
    "    consumer_key=consumer_key,\n",
    "    consumer_secret=consumer_secret,\n",
    "    wait_on_rate_limit=False)\n",
    "\n"
   ]
  },
  {
   "cell_type": "code",
   "execution_count": null,
   "id": "efe67f9f",
   "metadata": {},
   "outputs": [],
   "source": [
    "response = api.search_recent_tweets(query=\"Klimawandel -is:retweet -is:response\", expansions=['referenced_tweets.id'])"
   ]
  },
  {
   "cell_type": "code",
   "execution_count": null,
   "id": "ded2be64",
   "metadata": {},
   "outputs": [],
   "source": []
  },
  {
   "cell_type": "code",
   "execution_count": 22,
   "id": "f92ef434",
   "metadata": {},
   "outputs": [
    {
     "name": "stdout",
     "output_type": "stream",
     "text": [
      "1952007301071532302\n",
      "Nachdem die Grünen wegen sommerlicher Temperaturen Hitze-Panik verbreiteten, erklären die bayerischen Grünen nun: Auch am schlechten Wetter ist der Klimawandel schuld. Auch gegen den Regen brauche man nun „konkrete Maßnahmen“.\n",
      "https://t.co/IvIcjvA8PS\n",
      "1952354024511918578\n",
      "Sommer unter Merkel:\n",
      "• Sommermärchen \n",
      "• WM-Titel \n",
      "• Pokémon GO \n",
      "• Sonne, 29°\n",
      "\n",
      "Sommer unter Merz:\n",
      "• Regen, 18°\n",
      "\n",
      "ZUFALL?🤔\n",
      "1951926896859509092\n",
      "Es wird immer verrückter. 🤨 https://t.co/5Mrnhjkn2D\n",
      "1952069640252760206\n",
      "Die Grünen lügen und betrügen. Sie halten verzweifelt an ihrem Klimaschwindel fest.\n",
      "\n",
      "Es sind niederträchtige Personen, die für ihre wahnhafte Ideologie die eigene Familie verraten würden. https://t.co/jBWSR3wAM6\n",
      "1952338125688017226\n",
      "Was hat denn \"Queerness\" mit dem Wetter zu tun? https://t.co/UHMGyDpwwc\n",
      "1952333045803147463\n",
      "@kihaki @VeroWendland @AnAudretsch Der andere Unterschied ist das Habeck mit der EU ausgehandelt hatte, erst einen Teil mit H2 und ab ca. 2040 den Rest auch noch mit H2 zu befeuern.\n",
      "H2 in diesen Mengen ist bis auf weiteres Fantasy und bleibt auch teuer.\n",
      "1952052975796449427\n",
      "Zum ersten Mal seit 600 Jahren bricht der #Vulkan auf #Kamtschatka aus!\n",
      "\n",
      "Es wird nicht lange dauern und wir bekommen vom #ÖRR wieder was vom #CO2 und dem #Klimawandel zu hören!\n",
      "\n",
      "Wieso gerade jetzt – ist es künstlich herbeigeführt worden? https://t.co/2pCJlkHY3c\n",
      "1951997025597235328\n",
      "@welt Ahem ...\n",
      "https://t.co/1v3Jovo2EP https://t.co/ZXYc28QS9L\n",
      "1952344063388140017\n",
      "@Karl_Lauterbach Danke Herr #Lauterbauch, dass Sie mal wieder Ihre fehlende Kompetenz unter Beweis stellen. Wie lange müssen wir Sie noch ertragen? Der CO2 basierte Klimawandel beruht auf Betrug und Sie und Ihresgleichen machen mit.\n"
     ]
    }
   ],
   "source": [
    "for tweet in response.includes[\"tweets\"]:\n",
    "    print(tweet.id)\n",
    "    print(tweet.text)"
   ]
  },
  {
   "cell_type": "code",
   "execution_count": null,
   "id": "3ada550a",
   "metadata": {},
   "outputs": [],
   "source": []
  }
 ],
 "metadata": {
  "kernelspec": {
   "display_name": "threads",
   "language": "python",
   "name": "python3"
  },
  "language_info": {
   "codemirror_mode": {
    "name": "ipython",
    "version": 3
   },
   "file_extension": ".py",
   "mimetype": "text/x-python",
   "name": "python",
   "nbconvert_exporter": "python",
   "pygments_lexer": "ipython3",
   "version": "3.12.3"
  }
 },
 "nbformat": 4,
 "nbformat_minor": 5
}
